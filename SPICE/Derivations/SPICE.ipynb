{
 "cells": [
  {
   "cell_type": "markdown",
   "id": "68f599d4",
   "metadata": {},
   "source": [
    "## Modified Nodal Analysis"
   ]
  },
  {
   "cell_type": "markdown",
   "id": "7651ffb2",
   "metadata": {},
   "source": [
    "For the purpose of understanding we review the concepts from the original paper on modified nodal analysis: \n",
    "\n",
    "**[1] Chung-Wen Ho, A. Ruehli and P. Brennan, \"The modified nodal approach to network analysis,\" in IEEE Transactions on Circuits and Systems, vol. 22, no. 6, pp. 504-509, June 1975, doi: 10.1109/TCS.1975.1084079.**"
   ]
  },
  {
   "cell_type": "markdown",
   "id": "75d645d8",
   "metadata": {},
   "source": [
    "General steps:\n",
    "\n",
    "1. Write the KCL equations of the circuit at each node so that they are homogeneous - current coming into the node is negative, and current entering the node is positive.  Current always flows into the positive terminal of any circuit element.\n",
    "2. "
   ]
  },
  {
   "cell_type": "markdown",
   "id": "d6ea7070",
   "metadata": {},
   "source": []
  },
  {
   "cell_type": "markdown",
   "id": "5837492b",
   "metadata": {},
   "source": []
  },
  {
   "cell_type": "code",
   "execution_count": null,
   "id": "334956c5",
   "metadata": {},
   "outputs": [],
   "source": []
  }
 ],
 "metadata": {
  "kernelspec": {
   "display_name": "Python 3 (ipykernel)",
   "language": "python",
   "name": "python3"
  },
  "language_info": {
   "codemirror_mode": {
    "name": "ipython",
    "version": 3
   },
   "file_extension": ".py",
   "mimetype": "text/x-python",
   "name": "python",
   "nbconvert_exporter": "python",
   "pygments_lexer": "ipython3",
   "version": "3.11.5"
  }
 },
 "nbformat": 4,
 "nbformat_minor": 5
}
